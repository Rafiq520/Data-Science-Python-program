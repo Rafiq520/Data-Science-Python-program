{
 "cells": [
  {
   "cell_type": "code",
   "execution_count": 7,
   "id": "831e8b6a",
   "metadata": {},
   "outputs": [],
   "source": [
    "#write a python program to print the following string in a specific format (see the output)?\n",
    "a =(\"Twinkle, twinkle, little star, \\n\\tHow I wonder what you are! \\n\\t\\tUp above the world so high, \\n\\t\\tLike a diamond in the sky. \\nTwinkle, twinkle, little star, \\n\\tHow I wonder what you are!\")"
   ]
  },
  {
   "cell_type": "code",
   "execution_count": 8,
   "id": "8fd44c23",
   "metadata": {},
   "outputs": [
    {
     "name": "stdout",
     "output_type": "stream",
     "text": [
      "Twinkle, twinkle, little star, \n",
      "\tHow I wonder what you are! \n",
      "\t\tUp above the world so high, \n",
      "\t\tLike a diamond in the sky. \n",
      "Twinkle, twinkle, little star, \n",
      "\tHow I wonder what you are!\n"
     ]
    }
   ],
   "source": [
    "print(a)"
   ]
  },
  {
   "cell_type": "code",
   "execution_count": 10,
   "id": "fe9b5d33",
   "metadata": {},
   "outputs": [
    {
     "name": "stdout",
     "output_type": "stream",
     "text": [
      "Python version\n",
      "3.10.0 (tags/v3.10.0:b494f59, Oct  4 2021, 19:00:18) [MSC v.1929 64 bit (AMD64)]\n",
      "Version info.\n",
      "sys.version_info(major=3, minor=10, micro=0, releaselevel='final', serial=0)\n"
     ]
    }
   ],
   "source": [
    "#write a python program to get the python version you are using?\n",
    "import sys\n",
    "print(\"Python version\")\n",
    "print (sys.version)\n",
    "print(\"Version info.\")\n",
    "print (sys.version_info)"
   ]
  },
  {
   "cell_type": "code",
   "execution_count": 13,
   "id": "c8512084",
   "metadata": {},
   "outputs": [
    {
     "name": "stdout",
     "output_type": "stream",
     "text": [
      "Current date and time : \n",
      "2021-12-30 11:22:13\n"
     ]
    }
   ],
   "source": [
    "#write a python program to display current date and time?\n",
    "import datetime\n",
    "now = datetime.datetime.now()\n",
    "print (\"Current date and time : \")\n",
    "print (now.strftime(\"%Y-%m-%d %H:%M:%S\"))"
   ]
  },
  {
   "cell_type": "code",
   "execution_count": 1,
   "id": "80db78e7",
   "metadata": {},
   "outputs": [
    {
     "name": "stdout",
     "output_type": "stream",
     "text": [
      "Input the radius of the circle : 2.2\n",
      "The area of the circle with radius 2.2 is: 15.205308443374602\n"
     ]
    }
   ],
   "source": [
    "#write a python program which accept the radius of a circle from the user and compute the area?\n",
    "from math import pi\n",
    "r = float(input (\"Input the radius of the circle : \"))\n",
    "print (\"The area of the circle with radius \" + str(r) + \" is: \" + str(pi * r**2))"
   ]
  },
  {
   "cell_type": "code",
   "execution_count": 5,
   "id": "51ec6a4d",
   "metadata": {},
   "outputs": [
    {
     "name": "stdout",
     "output_type": "stream",
     "text": [
      "Enter first name:rafiq\n",
      "Enter last name:rehman\n",
      "Hello rehman rafiq\n"
     ]
    }
   ],
   "source": [
    "#write a python program which accepts the user first and last name and print them in reverse order?\n",
    "first_name = (input(\"Enter first name:\"))\n",
    "last_name = (input(\"Enter last name:\"))\n",
    "print(\"Hello\"+ \" \" +last_name+ \" \" +first_name)"
   ]
  },
  {
   "cell_type": "code",
   "execution_count": 13,
   "id": "d3a1d452",
   "metadata": {},
   "outputs": [
    {
     "name": "stdout",
     "output_type": "stream",
     "text": [
      "Enter first number:4\n",
      "Enter second number:5\n",
      "The sum is:  9\n"
     ]
    }
   ],
   "source": [
    "#write a Python program for the addition of two numbers with user input?\n",
    "a = (input(\"Enter first number:\"))\n",
    "b = (input(\"Enter second number:\"))\n",
    "sum = int(a)+int(b)\n",
    "print(\"The sum is: \", sum)"
   ]
  },
  {
   "cell_type": "code",
   "execution_count": null,
   "id": "9c7664af",
   "metadata": {},
   "outputs": [],
   "source": []
  }
 ],
 "metadata": {
  "kernelspec": {
   "display_name": "Python 3 (ipykernel)",
   "language": "python",
   "name": "python3"
  },
  "language_info": {
   "codemirror_mode": {
    "name": "ipython",
    "version": 3
   },
   "file_extension": ".py",
   "mimetype": "text/x-python",
   "name": "python",
   "nbconvert_exporter": "python",
   "pygments_lexer": "ipython3",
   "version": "3.10.0"
  }
 },
 "nbformat": 4,
 "nbformat_minor": 5
}
